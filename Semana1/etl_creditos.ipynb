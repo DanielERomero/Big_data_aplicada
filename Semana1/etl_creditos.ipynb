{
 "cells": [
  {
   "cell_type": "markdown",
   "id": "50455e39",
   "metadata": {},
   "source": [
    "# ETL en Big Data con PySpark\n",
    "\n",
    "Simula el procesamiento de solicitudes de crédito bancario a gran escala \n",
    "\n",
    "Fases: \n",
    "\n",
    "E - Extrac: Generar datos sinteticos realistas (4M filas)\n",
    "\n",
    "T - Tranform: Aplicar regla de negocio (scoring, flags, limpieza de datos)\n",
    "\n",
    "L - Load: Guardar los datos como Parquet, particionando por fecha y tipo_credito\n"
   ]
  },
  {
   "cell_type": "code",
   "execution_count": 1,
   "id": "ae65b2c2",
   "metadata": {},
   "outputs": [],
   "source": [
    "from pyspark.sql import SparkSession\n",
    "from pyspark.sql.functions import col, when, rand, round, lit\n",
    "from datetime import datetime\n",
    "import os"
   ]
  },
  {
   "cell_type": "code",
   "execution_count": 2,
   "id": "d8d237ce",
   "metadata": {},
   "outputs": [],
   "source": [
    "#------------------\n",
    "#Configuracion\n",
    "#------------------\n",
    "\n",
    "# Numero de filas a generar\n",
    "\n",
    "N_ROWS = 4_000_000\n",
    "\n",
    "# Fecha de carga del lote\n",
    "FECHA_CARGA = datetime.today().strftime(\"%Y-%m-%d\")\n",
    "\n",
    "# Ruta de salida de los datos sinteticos\n",
    "OUTPUT_DIR = \"../datos_sinteticos/creditos_bancarios\""
   ]
  },
  {
   "cell_type": "code",
   "execution_count": 4,
   "id": "2bf48cf6",
   "metadata": {},
   "outputs": [
    {
     "name": "stdout",
     "output_type": "stream",
     "text": [
      "Sesión spark iniciada\n"
     ]
    }
   ],
   "source": [
    "#------------------\n",
    "# Crear sesión spark\n",
    "#------------------\n",
    "\n",
    "spark = SparkSession.builder \\\n",
    "    .appName(\"ETL_Creditos_Bancarios\") \\\n",
    "    .getOrCreate()\n",
    "\n",
    "print(\"Sesión spark iniciada\")\n"
   ]
  }
 ],
 "metadata": {
  "kernelspec": {
   "display_name": "venv_BDA",
   "language": "python",
   "name": "python3"
  },
  "language_info": {
   "codemirror_mode": {
    "name": "ipython",
    "version": 3
   },
   "file_extension": ".py",
   "mimetype": "text/x-python",
   "name": "python",
   "nbconvert_exporter": "python",
   "pygments_lexer": "ipython3",
   "version": "3.10.9"
  }
 },
 "nbformat": 4,
 "nbformat_minor": 5
}
